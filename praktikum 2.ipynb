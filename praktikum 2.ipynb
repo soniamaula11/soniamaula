{
 "cells": [
  {
   "cell_type": "code",
   "execution_count": 21,
   "id": "1b0b143b-6023-4b29-8309-6a58893be04b",
   "metadata": {},
   "outputs": [
    {
     "name": "stdin",
     "output_type": "stream",
     "text": [
      "Masukan nilai a =  11\n",
      "Masukan nilai b =  25\n"
     ]
    },
    {
     "name": "stdout",
     "output_type": "stream",
     "text": [
      "\n",
      "jumlah a ditambah b adalah 36\n",
      "selisih antara a dan b adalah 14\n",
      "jumlah a kali b adalah 275\n",
      "jumlah sisa pembagian dari hasil a dibagi b adalah sisa 11\n",
      "jumlah a dibagi b adalah 0.44\n",
      "hasil dari log(a) adalah 2.3978952727983707\n",
      "hasil a pangkat b adalah 108347059433883722041830251\n",
      "\n"
     ]
    }
   ],
   "source": [
    "import math\n",
    "\n",
    "a = int(input(\"Masukan nilai a = \"))\n",
    "b = int(input(\"Masukan nilai b = \"))\n",
    "\n",
    "jumlah = a+b\n",
    "kurang = b-a\n",
    "kali = a*b\n",
    "sisa_bagi = a%b\n",
    "bagi = a/b\n",
    "log = math.log(a)\n",
    "pangkat = a**b\n",
    "\n",
    "print(f'''\n",
    "jumlah a ditambah b adalah {jumlah}\n",
    "selisih antara a dan b adalah {kurang}\n",
    "jumlah a kali b adalah {kali}\n",
    "jumlah sisa pembagian dari hasil a dibagi b adalah sisa {sisa_bagi}\n",
    "jumlah a dibagi b adalah {bagi}\n",
    "hasil dari log(a) adalah {log}\n",
    "hasil a pangkat b adalah {pangkat}\n",
    "''')\n"
   ]
  }
 ],
 "metadata": {
  "kernelspec": {
   "display_name": "Python 3 (ipykernel)",
   "language": "python",
   "name": "python3"
  },
  "language_info": {
   "codemirror_mode": {
    "name": "ipython",
    "version": 3
   },
   "file_extension": ".py",
   "mimetype": "text/x-python",
   "name": "python",
   "nbconvert_exporter": "python",
   "pygments_lexer": "ipython3",
   "version": "3.12.4"
  }
 },
 "nbformat": 4,
 "nbformat_minor": 5
}
