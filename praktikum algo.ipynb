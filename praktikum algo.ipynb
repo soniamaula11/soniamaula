{
 "cells": [
  {
   "cell_type": "code",
   "execution_count": 9,
   "id": "b536cb4e-6fa5-4a58-9f07-eb6fa4fe090b",
   "metadata": {},
   "outputs": [
    {
     "name": "stdin",
     "output_type": "stream",
     "text": [
      "Masukkan bujur kota 1:  213\n",
      "Masukkan lintang kota 1:  123\n",
      "Masukkan bujur kota 2:  254\n",
      "Masukkan lintang kota 2:  201\n"
     ]
    },
    {
     "name": "stdout",
     "output_type": "stream",
     "text": [
      "Jarak antara titik 1 dan titik 2 adalah: 6131.0537150181335 km\n"
     ]
    }
   ],
   "source": [
    "import math \n",
    "\n",
    "def haversine(lat1, lon1, lat2, lon2):\n",
    "    lat1_rad = math.radians(lat1)\n",
    "    lon1_rad = math.radians(lon1)\n",
    "    lat2_rad = math.radians(lat2)\n",
    "    lon2_rad = math.radians(lon2)\n",
    "\n",
    "    delta_lat = lat2_rad - lat1_rad\n",
    "    delta_lon = lon2_rad - lon1_rad\n",
    "\n",
    "    a = math.sin(delta_lat / 2)**2 + math.cos(lat1_rad) * math.cos(lat2_rad) * math.sin(delta_lon / 2)**2\n",
    "    c = 2 * math.atan2(math.sqrt(a), math.sqrt(1 - a))\n",
    "\n",
    "    R = 6371.0\n",
    "\n",
    "    distance = R * c\n",
    "    return distance\n",
    "\n",
    "lat1 = float(input(\"Masukkan bujur kota 1: \"))  \n",
    "lon1 = float(input(\"Masukkan lintang kota 1: \")) \n",
    "lat2 = float(input(\"Masukkan bujur kota 2: \"))\n",
    "lon2 = float(input(\"Masukkan lintang kota 2: \")) \n",
    "\n",
    "jarak = haversine(lat1, lon1, lat2, lon2)\n",
    "\n",
    "# Menampilkan hasil \n",
    "print(\"Jarak antara titik 1 dan titik 2 adalah:\", jarak, \"km\")"
   ]
  },
  {
   "cell_type": "code",
   "execution_count": null,
   "id": "c9d1b1a2-414b-4901-81c4-ff741e381a99",
   "metadata": {},
   "outputs": [],
   "source": []
  },
  {
   "cell_type": "code",
   "execution_count": null,
   "id": "d1d5acd9-7004-4f59-a741-5f2517393fac",
   "metadata": {},
   "outputs": [],
   "source": []
  },
  {
   "cell_type": "code",
   "execution_count": null,
   "id": "c17e48fd-2fc5-4454-9149-8cf582c7d13e",
   "metadata": {},
   "outputs": [],
   "source": []
  }
 ],
 "metadata": {
  "kernelspec": {
   "display_name": "Python 3 (ipykernel)",
   "language": "python",
   "name": "python3"
  },
  "language_info": {
   "codemirror_mode": {
    "name": "ipython",
    "version": 3
   },
   "file_extension": ".py",
   "mimetype": "text/x-python",
   "name": "python",
   "nbconvert_exporter": "python",
   "pygments_lexer": "ipython3",
   "version": "3.12.4"
  }
 },
 "nbformat": 4,
 "nbformat_minor": 5
}
